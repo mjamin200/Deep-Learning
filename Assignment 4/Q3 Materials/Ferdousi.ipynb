{
  "nbformat": 4,
  "nbformat_minor": 0,
  "metadata": {
    "colab": {
      "provenance": [],
      "gpuType": "T4"
    },
    "kernelspec": {
      "name": "python3",
      "display_name": "Python 3"
    },
    "language_info": {
      "name": "python"
    },
    "accelerator": "GPU"
  },
  "cells": [
    {
      "cell_type": "markdown",
      "source": [
        "# Import necessary libraries"
      ],
      "metadata": {
        "id": "eIfp3rmWZCwd"
      }
    },
    {
      "cell_type": "code",
      "execution_count": 28,
      "metadata": {
        "id": "fWinCl8lx8Ws"
      },
      "outputs": [],
      "source": [
        "import torch\n",
        "import tqdm\n",
        "from torch.utils.data import DataLoader, random_split, Dataset\n",
        "import matplotlib.pyplot as plt\n",
        "from transformers import AutoTokenizer, AutoModelForCausalLM, GPT2LMHeadModel, GPT2Config\n",
        "from torch.optim import AdamW\n",
        "import warnings\n"
      ]
    },
    {
      "cell_type": "code",
      "source": [
        "!pip install -qU transformers"
      ],
      "metadata": {
        "id": "lg_0nI-by5jq"
      },
      "execution_count": 29,
      "outputs": []
    },
    {
      "cell_type": "markdown",
      "source": [
        "# Data Loader"
      ],
      "metadata": {
        "id": "Te_w21k5apxB"
      }
    },
    {
      "cell_type": "code",
      "source": [
        "class ferdousiDataset(Dataset):\n",
        "  def __init__(self,data_path,tokenizer):\n",
        "\n",
        "    self.tokenizer = tokenizer\n",
        "\n",
        "    with open(data_path, \"r\") as file:\n",
        "      lines = file.readlines()\n",
        "    self.lines = lines[2:]\n",
        "\n",
        "  def __len__(self):\n",
        "\n",
        "    if len(self.lines)%2 == 1 :\n",
        "        self.lines.pop()   # ensure we have enven lines\n",
        "    return len(self.lines)//2\n",
        "\n",
        "  def __getitem__(self,idx):\n",
        "      input_poem = self.lines[2*idx].removesuffix(\"\\n\")\n",
        "      target_poem = self.lines[2*idx+1].removesuffix(\"\\n\")\n",
        "\n",
        "      # Tokenize poems\n",
        "      input = self.tokenizer('<s>' + input_poem + '</s>', max_length=9,truncation=True, padding='max_length',return_tensors='pt')\n",
        "      target = self.tokenizer('<s>' + target_poem + '</s>', max_length=9,truncation=True, padding='max_length',return_tensors='pt')\n",
        "\n",
        "      return input['input_ids'],target['input_ids'], input['attention_mask']\n",
        "\n"
      ],
      "metadata": {
        "id": "fY4fLh53njAJ"
      },
      "execution_count": 30,
      "outputs": []
    },
    {
      "cell_type": "code",
      "source": [
        "tokenizer = AutoTokenizer.from_pretrained(\n",
        "    \"HooshvareLab/gpt2-fa\",\n",
        "    bos_token='<s>',\n",
        "    eos_token='</s>',\n",
        "    pad_token='<pad>',\n",
        ")\n",
        "\n",
        "data_path = '/content/ferdousi.txt'\n",
        "\n",
        "dataset=ferdousiDataset(data_path,tokenizer)\n",
        "\n",
        "# spilit dataset for training, validation, and testing sets\n",
        "train_ratio = 0.7\n",
        "val_ratio = 0.15\n",
        "test_ratio = 0.15\n",
        "\n",
        "train_size = int(train_ratio * len(dataset))\n",
        "val_size = int(val_ratio * len(dataset))\n",
        "test_size = len(dataset) - train_size - val_size\n",
        "\n",
        "train_dataset, valid_dataset, test_dataset = random_split(dataset, [train_size, val_size, test_size])\n"
      ],
      "metadata": {
        "id": "758iPRy958sG"
      },
      "execution_count": 31,
      "outputs": []
    },
    {
      "cell_type": "code",
      "source": [
        "train_loader = torch.utils.data.DataLoader(train_dataset, batch_size=128, shuffle=True)\n",
        "val_loader = torch.utils.data.DataLoader(valid_dataset, batch_size=128, shuffle=True)\n",
        "test_loader = torch.utils.data.DataLoader(test_dataset, batch_size=128, shuffle=False)\n",
        "\n",
        "print(\"Train Size: \",len(train_dataset))\n",
        "print(\"Valid Size: \",len(valid_dataset))\n",
        "print(\"Test Size: \",len(test_dataset))"
      ],
      "metadata": {
        "colab": {
          "base_uri": "https://localhost:8080/"
        },
        "id": "-MI8D5tg6mrH",
        "outputId": "83338ed3-e165-4b80-8d2a-4dccec4c6803"
      },
      "execution_count": 32,
      "outputs": [
        {
          "output_type": "stream",
          "name": "stdout",
          "text": [
            "Train Size:  34725\n",
            "Valid Size:  7441\n",
            "Test Size:  7442\n"
          ]
        }
      ]
    },
    {
      "cell_type": "markdown",
      "source": [
        "# Train the Model"
      ],
      "metadata": {
        "id": "oDYM5A3HbDHB"
      }
    },
    {
      "cell_type": "code",
      "source": [
        "device = torch.device('cuda' if torch.cuda.is_available() else 'cpu')\n",
        "print(device)\n",
        "\n",
        "model = GPT2LMHeadModel.from_pretrained(\"HooshvareLab/gpt2-fa\").to(device)\n",
        "optimizer = AdamW(model.parameters(), lr=5e-4)"
      ],
      "metadata": {
        "colab": {
          "base_uri": "https://localhost:8080/"
        },
        "id": "Sa7D8LSE9h9A",
        "outputId": "3261ac18-4c1e-48c3-9f5e-d64a7e2bd9d1"
      },
      "execution_count": 33,
      "outputs": [
        {
          "output_type": "stream",
          "name": "stdout",
          "text": [
            "cuda\n"
          ]
        }
      ]
    },
    {
      "cell_type": "code",
      "source": [
        "num_epochs = 4\n",
        "Early_Stopping=0\n",
        "\n",
        "# Training and validation loop\n",
        "train_losses = []\n",
        "val_losses = []\n",
        "\n",
        "\n",
        "for epoch in range(num_epochs):\n",
        "    # Training phase\n",
        "    model.train()\n",
        "    train_loss = 0.0\n",
        "    val_loss = 0.0\n",
        "\n",
        "    for inputs, target, attention in tqdm.tqdm(train_loader):\n",
        "        inputs, target, attention = inputs.to(device), target.to(device), attention.to(device)\n",
        "\n",
        "        optimizer.zero_grad()\n",
        "        model.zero_grad()\n",
        "        outputs = model(input_ids=inputs,labels=target,attention_mask=attention)\n",
        "        loss=outputs.loss.mean()\n",
        "\n",
        "        loss.backward()\n",
        "        optimizer.step()\n",
        "\n",
        "        train_loss += loss.item()\n",
        "\n",
        "    train_losses.append(train_loss / len(train_loader))\n",
        "\n",
        "    # Vlidation Phase\n",
        "    model.eval()\n",
        "    with torch.no_grad():\n",
        "        for inputs, target, attention in val_loader:\n",
        "            inputs, target, attention = inputs.to(device), target.to(device), attention.to(device)\n",
        "\n",
        "            outputs = model(inputs,labels=target,attention_mask=attention)\n",
        "            loss=outputs.loss.mean()\n",
        "            val_loss += loss.item()\n",
        "\n",
        "\n",
        "    val_losses.append(val_loss / len(val_loader))\n",
        "\n",
        "    print(f\"Epoch {epoch + 1}/{num_epochs}, Train Loss: {train_losses[-1]:.4f}, Validation Loss: {val_losses[-1]:.4f}\")\n",
        "\n",
        "    if val_losses[-1] == min(val_losses):\n",
        "      torch.save(model.state_dict(), 'best_model.pth')\n",
        "      print(\"Saved best model\")\n",
        "\n",
        "\n",
        "    if epoch>0 and val_losses[-2] < val_losses[-1]:\n",
        "      Early_Stopping+=1\n",
        "      if Early_Stopping>0:\n",
        "        break;\n",
        "\n"
      ],
      "metadata": {
        "colab": {
          "base_uri": "https://localhost:8080/"
        },
        "id": "YLRQet5o-zPu",
        "outputId": "d2da277f-9496-4c4e-cc83-5f1f85138f10"
      },
      "execution_count": 34,
      "outputs": [
        {
          "output_type": "stream",
          "name": "stderr",
          "text": [
            "100%|██████████| 272/272 [01:36<00:00,  2.83it/s]\n"
          ]
        },
        {
          "output_type": "stream",
          "name": "stdout",
          "text": [
            "Epoch 1/4, Train Loss: 6.0183, Validation Loss: 5.7907\n",
            "Saved best model\n"
          ]
        },
        {
          "output_type": "stream",
          "name": "stderr",
          "text": [
            "100%|██████████| 272/272 [01:35<00:00,  2.84it/s]\n"
          ]
        },
        {
          "output_type": "stream",
          "name": "stdout",
          "text": [
            "Epoch 2/4, Train Loss: 5.6725, Validation Loss: 5.7054\n",
            "Saved best model\n"
          ]
        },
        {
          "output_type": "stream",
          "name": "stderr",
          "text": [
            "100%|██████████| 272/272 [01:35<00:00,  2.85it/s]\n"
          ]
        },
        {
          "output_type": "stream",
          "name": "stdout",
          "text": [
            "Epoch 3/4, Train Loss: 5.4747, Validation Loss: 5.7044\n",
            "Saved best model\n"
          ]
        },
        {
          "output_type": "stream",
          "name": "stderr",
          "text": [
            "100%|██████████| 272/272 [01:35<00:00,  2.85it/s]\n"
          ]
        },
        {
          "output_type": "stream",
          "name": "stdout",
          "text": [
            "Epoch 4/4, Train Loss: 5.2239, Validation Loss: 5.7942\n"
          ]
        }
      ]
    },
    {
      "cell_type": "code",
      "source": [
        "# Plotting losses\n",
        "plt.figure(figsize=(12, 4))\n",
        "\n",
        "plt.plot(train_losses, label='Training Loss')\n",
        "plt.plot(val_losses, label='Validation Loss')\n",
        "plt.title('Training and Validation Losses')\n",
        "plt.xlabel('Epoch')\n",
        "plt.ylabel('Loss')\n",
        "plt.legend()"
      ],
      "metadata": {
        "id": "2s4RkGm8-9kX",
        "colab": {
          "base_uri": "https://localhost:8080/",
          "height": 427
        },
        "outputId": "e60fa8b8-9e94-4c07-ef9b-9d703608e007"
      },
      "execution_count": 35,
      "outputs": [
        {
          "output_type": "execute_result",
          "data": {
            "text/plain": [
              "<matplotlib.legend.Legend at 0x780804beb040>"
            ]
          },
          "metadata": {},
          "execution_count": 35
        },
        {
          "output_type": "display_data",
          "data": {
            "text/plain": [
              "<Figure size 1200x400 with 1 Axes>"
            ],
            "image/png": "[encoded data removed]"
          },
          "metadata": {}
        }
      ]
    },
    {
      "cell_type": "markdown",
      "source": [
        "## Test"
      ],
      "metadata": {
        "id": "TEVj8Hxrae7z"
      }
    },
    {
      "cell_type": "code",
      "source": [
        "import math\n",
        "\n",
        "model.load_state_dict(torch.load('best_model.pth'))\n",
        "model.eval()\n",
        "test_loss=0\n",
        "with torch.no_grad():\n",
        "    for inputs, target, attention in test_loader:\n",
        "        inputs, target, attention = inputs.to(device), target.to(device), attention.to(device)\n",
        "\n",
        "        outputs = model(inputs,labels=target,attention_mask=attention)\n",
        "        loss=outputs.loss\n",
        "        test_loss += loss.item()\n",
        "\n",
        "    test_loss = test_loss / len(test_loader)\n",
        "    test_perplexity = math.exp(test_loss)\n",
        "\n",
        "print(f\"Test Loss: {test_loss:.4f}, Test Perplexity: {test_perplexity:.4f}\")"
      ],
      "metadata": {
        "id": "5bao-_qYaeAM",
        "colab": {
          "base_uri": "https://localhost:8080/"
        },
        "outputId": "04066cca-72ed-4494-c0e9-8fe767be31f3"
      },
      "execution_count": 36,
      "outputs": [
        {
          "output_type": "stream",
          "name": "stdout",
          "text": [
            "Test Loss: 5.7200, Test Perplexity: 304.9136\n"
          ]
        }
      ]
    },
    {
      "cell_type": "markdown",
      "source": [
        "# Generate poem"
      ],
      "metadata": {
        "id": "FMthlAzjcmuF"
      }
    },
    {
      "cell_type": "code",
      "source": [
        "def generate_poem(prompt,model,tokenizer):\n",
        "    input = tokenizer(text= '<s>' + prompt +'</s>' ,return_tensors='pt').to(device)\n",
        "\n",
        "    model.eval()\n",
        "    length= input.input_ids.shape[1]\n",
        "    print(length)\n",
        "    temp = len(prompt)\n",
        "    output_ids = model.generate(input.input_ids,no_repeat_ngram_size=1,top_k=50,max_length=2*length+1,top_p=0.95,min_length=2*length-1,\n",
        "                                pad_token_id=tokenizer.eos_token_id,do_sample=True,num_return_sequences=1)\n",
        "\n",
        "    poem = tokenizer.decode(output_ids[0], skip_special_tokens=True)\n",
        "    return poem[:temp] +' / '+poem[temp:]\n"
      ],
      "metadata": {
        "id": "2Z1160U6Xc4x"
      },
      "execution_count": 37,
      "outputs": []
    },
    {
      "cell_type": "code",
      "source": [
        "sample_1=\"به نام خداوند جان و خرد\"\n",
        "sample_2='رستم برفت آب بخورد'\n",
        "sample_3='سهراب ای آزاد مرد ایران'\n",
        "sample_4='ایران و توران جنگیدند'\n",
        "samples = [sample_1, sample_2, sample_3, sample_4]\n",
        "\n",
        "for sample in samples:\n",
        "\n",
        "  generated_poem = generate_poem(sample ,model, tokenizer)\n",
        "  print(\" Poem:\")\n",
        "  print(generated_poem)"
      ],
      "metadata": {
        "id": "3FrgLiFOX2MQ",
        "colab": {
          "base_uri": "https://localhost:8080/"
        },
        "outputId": "e5545ae0-3ea7-4431-ce98-05a0caed6d93"
      },
      "execution_count": 40,
      "outputs": [
        {
          "output_type": "stream",
          "name": "stderr",
          "text": [
            "A decoder-only architecture is being used, but right-padding was detected! For correct generation results, please set `padding_side='left'` when initializing the tokenizer.\n",
            "A decoder-only architecture is being used, but right-padding was detected! For correct generation results, please set `padding_side='left'` when initializing the tokenizer.\n"
          ]
        },
        {
          "output_type": "stream",
          "name": "stdout",
          "text": [
            "8\n",
            " Poem:\n",
            "به نام خداوند جان و خرد / پرد نشرد س آفریدست گرد پرورد\n",
            "8\n"
          ]
        },
        {
          "output_type": "stream",
          "name": "stderr",
          "text": [
            "A decoder-only architecture is being used, but right-padding was detected! For correct generation results, please set `padding_side='left'` when initializing the tokenizer.\n",
            "A decoder-only architecture is being used, but right-padding was detected! For correct generation results, please set `padding_side='left'` when initializing the tokenizer.\n"
          ]
        },
        {
          "output_type": "stream",
          "name": "stdout",
          "text": [
            " Poem:\n",
            "رستم برفت آب بخورد /  بهورد زردستان باد بازجوی\n",
            "9\n",
            " Poem:\n",
            "سهراب ای آزاد مرد ایران /  را در کرد و فرمان او شاه راهش\n",
            "6\n",
            " Poem:\n",
            "ایران و توران جنگیدند / گست شدش بر کمر\n"
          ]
        }
      ]
    }
  ]
}